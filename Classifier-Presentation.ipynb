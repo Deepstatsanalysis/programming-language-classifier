{
 "cells": [
  {
   "cell_type": "markdown",
   "metadata": {},
   "source": [
    "# Programming Language Classifier\n",
    "Brought to you by Python and scikit-learn.\n",
    "\n",
    "\n",
    "\n",
    "Import the main classifier functions and a few scikit-learn functions to explain the process:\n"
   ]
  },
  {
   "cell_type": "code",
   "execution_count": 1,
   "metadata": {
    "collapsed": false
   },
   "outputs": [],
   "source": [
    "from classifier import prepare_dataset, prepare_pipeline, predict_language\n",
    "from sklearn.datasets import load_files\n",
    "from sklearn.cross_validation import train_test_split\n",
    "from sklearn.feature_extraction.text import CountVectorizer, TfidfTransformer\n",
    "from sklearn.naive_bayes import MultinomialNB\n",
    "from sklearn import linear_model\n",
    "from sklearn.pipeline import Pipeline"
   ]
  },
  {
   "cell_type": "markdown",
   "metadata": {},
   "source": [
    "# The classifier in action\n",
    "sample.py is a tiny python script."
   ]
  },
  {
   "cell_type": "code",
   "execution_count": 2,
   "metadata": {
    "collapsed": false
   },
   "outputs": [
    {
     "name": "stdout",
     "output_type": "stream",
     "text": [
      "Prediction: python\n"
     ]
    },
    {
     "data": {
      "text/plain": [
       "'python'"
      ]
     },
     "execution_count": 2,
     "metadata": {},
     "output_type": "execute_result"
    }
   ],
   "source": [
    "pipeline, target_names = prepare_pipeline()\n",
    "predict_language('sample.py', pipeline, target_names)"
   ]
  },
  {
   "cell_type": "markdown",
   "metadata": {},
   "source": [
    "This classifier uses three parts from scikit-learn: CountVectorizer, TfidfTransformer, and SGDClassifier.\n",
    "\n",
    "CountVectorizer takes the text of the programs and vectorizes (puts them in a form usable by the estimator) them by word count.\n",
    "TfidTransformer takes those vectorized word counts and discounts those that appear in many programs. In other words, it provides a high value for a given term in a given value if that term occurs often in that particular program and very rarely anywhere else.\n",
    "SGDClassifier is classifier.py's estimater. It is trained by the output provided by the vectorizer and transformer and can then make predictions about new input. In particular, SDGClassifier implements linear models that utilize stochiastic grade descent learning. One sample at a time, the estimator estimates a gradient of loss and updates itself with that information. With enough data, it predicts very well.\n",
    "\n",
    "\n",
    "Here are the training and test F scores for our SDGClassifier pipeline:"
   ]
  },
  {
   "cell_type": "code",
   "execution_count": 3,
   "metadata": {
    "collapsed": false
   },
   "outputs": [
    {
     "data": {
      "text/plain": [
       "Pipeline(steps=[('vectorizer', CountVectorizer(analyzer='word', binary=False, decode_error='strict',\n",
       "        dtype=<class 'numpy.int64'>, encoding='utf-8', input='content',\n",
       "        lowercase=True, max_df=1.0, max_features=None, min_df=1,\n",
       "        ngram_range=(1, 1), preprocessor=None, stop_words=None,\n",
       "       ...   penalty='l2', power_t=0.5, random_state=None, shuffle=True,\n",
       "       verbose=0, warm_start=False))])"
      ]
     },
     "execution_count": 3,
     "metadata": {},
     "output_type": "execute_result"
    }
   ],
   "source": [
    "target_names, X_train, X_test, y_train, y_test = prepare_dataset()\n",
    "keystone = Pipeline([('vectorizer', CountVectorizer()),\n",
    "                    ('tfidf', TfidfTransformer()),\n",
    "                    ('classifier', linear_model.SGDClassifier())])\n",
    "keystone.fit(X_train, y_train)"
   ]
  },
  {
   "cell_type": "code",
   "execution_count": 4,
   "metadata": {
    "collapsed": false
   },
   "outputs": [
    {
     "name": "stdout",
     "output_type": "stream",
     "text": [
      "SDGClassifier train score: 0.9942939594674363\n",
      "SDGClassifier test score: 0.9876705141657922\n"
     ]
    }
   ],
   "source": [
    "print(\"SDGClassifier train score: {}\".format(keystone.score(X_train, y_train)))\n",
    "print(\"SDGClassifier test score: {}\".format(keystone.score(X_test, y_test)))"
   ]
  },
  {
   "cell_type": "markdown",
   "metadata": {},
   "source": [
    "Now, compare those F scores with those from a naive Bayes classifier:"
   ]
  },
  {
   "cell_type": "code",
   "execution_count": 5,
   "metadata": {
    "collapsed": false
   },
   "outputs": [
    {
     "data": {
      "text/plain": [
       "Pipeline(steps=[('vectorizer', CountVectorizer(analyzer='word', binary=False, decode_error='strict',\n",
       "        dtype=<class 'numpy.int64'>, encoding='utf-8', input='content',\n",
       "        lowercase=True, max_df=1.0, max_features=None, min_df=1,\n",
       "        ngram_range=(1, 1), preprocessor=None, stop_words=None,\n",
       "        strip_accents=None, token_pattern='(?u)\\\\b\\\\w\\\\w+\\\\b',\n",
       "        tokenizer=None, vocabulary=None)), ('classifier', MultinomialNB(alpha=1.0, class_prior=None, fit_prior=True))])"
      ]
     },
     "execution_count": 5,
     "metadata": {},
     "output_type": "execute_result"
    }
   ],
   "source": [
    "trans_alaska = Pipeline([('vectorizer', CountVectorizer()), ('classifier', MultinomialNB())])\n",
    "trans_alaska.fit(X_train, y_train)"
   ]
  },
  {
   "cell_type": "code",
   "execution_count": 6,
   "metadata": {
    "collapsed": false
   },
   "outputs": [
    {
     "name": "stdout",
     "output_type": "stream",
     "text": [
      "Naive Bayes train score: 0.9683872237161408\n",
      "Naive Bayes test score: 0.953305351521511\n"
     ]
    }
   ],
   "source": [
    "print(\"Naive Bayes train score: {}\".format(trans_alaska.score(X_train, y_train)))\n",
    "print(\"Naive Bayes test score: {}\".format(trans_alaska.score(X_test, y_test)))"
   ]
  },
  {
   "cell_type": "markdown",
   "metadata": {},
   "source": [
    "## Stoichiometry wins every time. Or so said my chemisty teacher.\n",
    "\n",
    "You can classify programs yourself! Just run `python3 classifier.py your_filename` from the command line in the programming-language-classifier directory. Have fun!"
   ]
  },
  {
   "cell_type": "code",
   "execution_count": null,
   "metadata": {
    "collapsed": true
   },
   "outputs": [],
   "source": []
  }
 ],
 "metadata": {
  "kernelspec": {
   "display_name": "Python 3",
   "language": "python",
   "name": "python3"
  },
  "language_info": {
   "codemirror_mode": {
    "name": "ipython",
    "version": 3
   },
   "file_extension": ".py",
   "mimetype": "text/x-python",
   "name": "python",
   "nbconvert_exporter": "python",
   "pygments_lexer": "ipython3",
   "version": "3.5.1"
  }
 },
 "nbformat": 4,
 "nbformat_minor": 0
}
